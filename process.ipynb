{
 "cells": [
  {
   "cell_type": "code",
   "execution_count": null,
   "id": "984d1053-68c6-4be1-b640-49a9833a466d",
   "metadata": {
    "tags": [
     "parameters"
    ]
   },
   "outputs": [],
   "source": [
    "aoi = [{'path': 'aoi.geojson'}] # type: stage-in\n",
    "granules = [{'path': '/path/to/granule.h5'}] # type: stage-in\n",
    "columns = 'agbd, agbd_se, l2_quality_flag, l4_quality_flag, sensitivity, sensitivity_a2, lon_lowestmode, lan_lowestmode' # type: string\n",
    "query = '' # type: string\n",
    "lat = 'lat_lowestmode' # type: string\n",
    "lon = 'lon_lowestmode' # type: string\n",
    "beams = 'all' # type: string"
   ]
  },
  {
   "cell_type": "markdown",
   "id": "b0eec0da",
   "metadata": {},
   "source": [
    "Above, the `stage-in` parameter `aoi` is expected to be a list of dictionaries, each of which describes one of the files supplied as the value of this parameter.\n",
    "\n",
    "If the input value was only a single string, then the value of `aoi` will be an array of size 1 with said dictionary. Take a look at the `inputs.json` supplied to `papermill` for an example of what this dictionary would look like:\n",
    "\n",
    "```\n",
    "=================\n",
    "***inputs.json***\n",
    "=================\n",
    "{\n",
    "    \"aoi\": [\n",
    "        {\n",
    "            \"basename\": \"0_geoBoundaries-GAB-ADM0.geojson\",\n",
    "            \"checksum\": \"sha1$001e7d353bd8143e1315d30ab6aed44139c8f344\",\n",
    "            \"class\": \"File\",\n",
    "            \"dirname\": \"/var/lib/cwl/stg36ad3228-566a-4426-90f7-ed42f53bb4e0\",\n",
    "            \"http://commonwl.org/cwltool#generation\": 0,\n",
    "            \"location\": \"file:///data/home/hysdsops/zhan/artifact-deposit-repo/jplzhan/gedi-subset/main/output-nbjb75r8/inputs/0/0_geoBoundaries-GAB-ADM0.geojson\",\n",
    "            \"nameext\": \".geojson\",\n",
    "            \"nameroot\": \"geoBoundaries-GAB-ADM0\",\n",
    "            \"path\": \"/var/lib/cwl/stg36ad3228-566a-4426-90f7-ed42f53bb4e0/0_geoBoundaries-GAB-ADM0.geojson\",\n",
    "            \"size\": 51350\n",
    "        }\n",
    "    ],\n",
    "    \"granules\": [\n",
    "        {\n",
    "            \"basename\": \"0_GEDI04_A_2019146134206_O02558_01_T05641_02_002_02_V002.h5\",\n",
    "            \"checksum\": \"sha1$feb08ef019d91ff07e1580c9a849e6e4f28e9fe3\",\n",
    "            \"class\": \"File\",\n",
    "            \"dirname\": \"/var/lib/cwl/stg763e8dd7-fd05-487a-ba3a-cadc53c9c332\",\n",
    "            \"http://commonwl.org/cwltool#generation\": 0,\n",
    "            \"location\": \"file:///data/home/hysdsops/zhan/artifact-deposit-repo/jplzhan/gedi-subset/hec/output-p_ok_184/inputs/0/0_GEDI04_A_2019146134206_O02558_01_T05641_02_002_02_V002.h5\",\n",
    "            \"nameext\": \".h5\",\n",
    "            \"nameroot\": \"0_GEDI04_A_2019146134206_O02558_01_T05641_02_002_02_V002\",\n",
    "            \"path\": \"/var/lib/cwl/stg763e8dd7-fd05-487a-ba3a-cadc53c9c332/0_GEDI04_A_2019146134206_O02558_01_T05641_02_002_02_V002.h5\",\n",
    "            \"size\": 109948857\n",
    "        },\n",
    "        {\n",
    "            \"basename\": \"1_GEDI04_A_2019160192444_O02779_04_T02282_02_002_02_V002.h5\",\n",
    "            \"checksum\": \"sha1$b73e33aa701ad62d9e41e19c135c8ee264dea12a\",\n",
    "            \"class\": \"File\",\n",
    "            \"dirname\": \"/var/lib/cwl/stg5cb2a269-b7fa-4614-a06c-da98019acbce\",\n",
    "            \"http://commonwl.org/cwltool#generation\": 0,\n",
    "            \"location\": \"file:///data/home/hysdsops/zhan/artifact-deposit-repo/jplzhan/gedi-subset/hec/output-p_ok_184/inputs/1/1_GEDI04_A_2019160192444_O02779_04_T02282_02_002_02_V002.h5\",\n",
    "            \"nameext\": \".h5\",\n",
    "            \"nameroot\": \"1_GEDI04_A_2019160192444_O02779_04_T02282_02_002_02_V002\",\n",
    "            \"path\": \"/var/lib/cwl/stg5cb2a269-b7fa-4614-a06c-da98019acbce/1_GEDI04_A_2019160192444_O02779_04_T02282_02_002_02_V002.h5\",\n",
    "            \"size\": 216236480\n",
    "        }\n",
    "    ],\n",
    "    \"columns\": \"agbd, agbd_se, l2_quality_flag, l4_quality_flag, sensitivity, sensitivity_a2, lon_lowestmode, lat_lowestmode\",\n",
    "    \"maappgt\": \"PGT-945-qCOwrb6hBV3pNSVyFhwGA9UTeAIRzGzfZf3tbY6uSb-hpRX4G8Y1pyujdKAMjY0WA7U-904a6371b74a\",\n",
    "    \"query\": \"l2_quality_flag == 1 and l4_quality_flag == 1 and sensitivity > 0.95 and sensitivity_a2 > 0.95\"\n",
    "}\n",
    "```\n",
    "\n",
    "In general, we only care about the `path` value for our dictionary element within the list defined by `aoi`. This is the filename accessible by our docker container when the job actually runes.\n",
    "\n",
    "In this version of the notebook, we include an additional `stage-in` parameter called `granules`. This is the list of `.h5` files to be staged in before the execution of the notebook."
   ]
  },
  {
   "cell_type": "code",
   "execution_count": null,
   "id": "b0596f7c",
   "metadata": {},
   "outputs": [],
   "source": [
    "import os\n",
    "\n",
    "# Collapse the list into a single filepath\n",
    "aoi_path = aoi[0]['path']\n",
    "\n",
    "# Write the list of files downloaded by stage-in to a manifest file\n",
    "manifest_file = os.path.join(os.getcwd(), 'manifest.txt')\n",
    "with open(manifest_file, 'w') as f:\n",
    "    for file_desc in granules:\n",
    "        f.write('{}\\n'.format(file_desc['path']))"
   ]
  },
  {
   "cell_type": "code",
   "execution_count": null,
   "id": "42ce04c7-7913-45cb-92f4-b74072082180",
   "metadata": {
    "collapsed": true,
    "jupyter": {
     "outputs_hidden": true
    },
    "tags": []
   },
   "outputs": [
    {
     "name": "stdout",
     "output_type": "stream",
     "text": [
      "Couldn't find program: 'bash'\n"
     ]
    }
   ],
   "source": [
    "%%bash -s \"$aoi_path\" \"$columns\" \"$query\" \"$manifest_file\" \"$lat\" \"$lon\" \"$beams\"\n",
    "# write a bash script here\n",
    "conda run --no-capture-output -n gedi_subset /home/jovyan/gedi-subsetter/src/gedi_subset/subset.py \\\n",
    "    --verbose \\\n",
    "    --aoi \"${1}\" \\\n",
    "    --columns \"${2}\" \\\n",
    "    --query \"${3}\" \\\n",
    "    --granules \"${4}\" \\\n",
    "    --lat \"${5}\" \\\n",
    "    --lon \"${6}\" \\\n",
    "    --beams \"${7}\""
   ]
  }
 ],
 "metadata": {
  "kernelspec": {
   "display_name": "Python 3 (ipykernel)",
   "language": "python",
   "name": "python3"
  },
  "language_info": {
   "codemirror_mode": {
    "name": "ipython",
    "version": 3
   },
   "file_extension": ".py",
   "mimetype": "text/x-python",
   "name": "python",
   "nbconvert_exporter": "python",
   "pygments_lexer": "ipython3",
   "version": "3.9.7"
  }
 },
 "nbformat": 4,
 "nbformat_minor": 5
}

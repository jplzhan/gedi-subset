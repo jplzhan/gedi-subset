{
 "cells": [
  {
   "cell_type": "code",
   "execution_count": null,
   "id": "984d1053-68c6-4be1-b640-49a9833a466d",
   "metadata": {
    "tags": [
     "parameters"
    ]
   },
   "outputs": [],
   "source": [
    "aoi = 'abcd' # type: stage-in\n",
    "columns = 5 # type: int\n",
    "query = '' # type: string\n",
    "name = '' # type: string"
   ]
  },
  {
   "cell_type": "code",
   "execution_count": null,
   "id": "42ce04c7-7913-45cb-92f4-b74072082180",
   "metadata": {
    "collapsed": true,
    "jupyter": {
     "outputs_hidden": true
    },
    "tags": []
   },
   "outputs": [
    {
     "name": "stdout",
     "output_type": "stream",
     "text": [
      "Couldn't find program: 'bash'\n"
     ]
    }
   ],
   "source": [
    "%%bash\n",
    "# write a bash script here\n",
    "sh maap-documentation-examples/gedi-subset/subset.sh {aoi} {columns} {query} {name}"
   ]
  }
 ],
 "metadata": {
  "kernelspec": {
   "display_name": "Python 3 (ipykernel)",
   "language": "python",
   "name": "python3"
  },
  "language_info": {
   "codemirror_mode": {
    "name": "ipython",
    "version": 3
   },
   "file_extension": ".py",
   "mimetype": "text/x-python",
   "name": "python",
   "nbconvert_exporter": "python",
   "pygments_lexer": "ipython3",
   "version": "3.9.7"
  }
 },
 "nbformat": 4,
 "nbformat_minor": 5
}
